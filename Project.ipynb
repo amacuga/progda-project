{
 "cells": [
  {
   "cell_type": "markdown",
   "metadata": {},
   "source": [
    "# Problem statement\n",
    "\n",
    "For this project you must create a data set by simulating a real-world phenomenon of your choosing. You may pick any phenomenon you wish – you might pick one that is of interest to you in your personal or professional life. Then, rather than collect data\n",
    "related to the phenomenon, you should model and synthesise such data using Python. We suggest you use the numpy.random package for this purpose. Specifically, in this project you should:\n",
    "\n",
    "* Choose a real-world phenomenon that can be measured and for which you could collect at least one-hundred data points across at least four different variables.\n",
    "* Investigate the types of variables involved, their likely distributions, and their relationships with each other.\n",
    "* Synthesise/simulate a data set as closely matching their properties as possible.\n",
    "* Detail your research and implement the simulation in a Jupyter notebook – the data set itself can simply be displayed in an output cell within the notebook.\n",
    "\n",
    "Note that this project is about simulation – you must synthesise a data set. Some students may already have some real-world data sets in their own files. It is okay to base your synthesised data set on these should you wish (please reference it if you do), but the main task in this project is to create a synthesised data set."
   ]
  },
  {
   "cell_type": "markdown",
   "metadata": {},
   "source": [
    "# My simulation of the real-world phenomenon\n",
    "\n",
    "My project is inspired by The Height and Shoe Size dataset published online (McLaren 2012). In this project, I will model and synthesise the dataset concerning the height and shoe size of the students attending this course instead of collecting them by asking each student for their input. In the original dataset, there is only three variables- shoe size, height and sex, I decided to add another two variables- age and ID number. \n",
    "\n",
    "The variables involved:\n",
    "\n",
    "\n",
    "* **Shoe_size:** Size of the shoe, the sizes are between 35-45.\n",
    "\n",
    "* **Height:** Height of the student in centimetres.\n",
    "\n",
    "* **Sex:** the student is Male or Female.\n",
    "\n",
    "* **Age:** the age of the student, the age is between 18-49.\n",
    "\n",
    "* **ID:** identification number of the student, the values are between 0000-9999.\n",
    "\n",
    "\n",
    "The variables shoe_size, height, age and ID are numerical data, the variable sex is categorical data. The dataset will consist of 150 observations."
   ]
  },
  {
   "cell_type": "code",
   "execution_count": 1,
   "metadata": {},
   "outputs": [],
   "source": [
    "# Show plots in notebook\n",
    "%matplotlib inline\n",
    "\n",
    "# Import libraries\n",
    "import pandas as pd\n",
    "import numpy as np\n",
    "import seaborn as sns\n",
    "import matplotlib.pyplot as plt"
   ]
  },
  {
   "cell_type": "markdown",
   "metadata": {},
   "source": [
    "## Shoe_size\n",
    "\n",
    "I will generate random values for the variable shoe_size. The values should be integers between 36 and 50 inclusive."
   ]
  },
  {
   "cell_type": "code",
   "execution_count": 2,
   "metadata": {},
   "outputs": [
    {
     "data": {
      "text/plain": [
       "array([46, 50, 45, 37, 40, 49, 42, 42, 45, 49, 36, 41, 36, 40, 42, 42, 41,\n",
       "       46, 41, 47, 48, 46, 36, 40, 37, 49, 46, 46, 45, 40, 39, 49, 45, 39,\n",
       "       39, 39, 40, 43, 44, 39, 37, 40, 45, 48, 37, 37, 44, 40, 47, 49, 36,\n",
       "       37, 40, 40, 47, 36, 36, 38, 45, 48, 37, 36, 48, 49, 39, 40, 41, 38,\n",
       "       46, 37, 36, 36, 44, 49, 38, 41, 45, 45, 49, 36, 46, 36, 46, 39, 46,\n",
       "       48, 45, 44, 45, 42, 40, 41, 40, 43, 41, 46, 50, 43, 40, 43, 50, 39,\n",
       "       39, 37, 50, 39, 49, 50, 41, 37, 36, 50, 36, 44, 37, 49, 37, 39, 42,\n",
       "       47, 47, 42, 37, 47, 48, 50, 49, 40, 50, 39, 41, 37, 40, 46, 39, 42,\n",
       "       41, 40, 37, 50, 42, 47, 41, 38, 44, 36, 50, 40, 37, 39])"
      ]
     },
     "execution_count": 2,
     "metadata": {},
     "output_type": "execute_result"
    }
   ],
   "source": [
    "# Generates random numbers with seed 555, so we can reproduce the results everytime we run the code.\n",
    "np.random.seed(555)\n",
    "# Returns random 150 integers between 36(inclusive) and 51(exclusive).\n",
    "shoe_size = np.random.randint(36, 51, 150)\n",
    "shoe_size"
   ]
  },
  {
   "cell_type": "code",
   "execution_count": 3,
   "metadata": {},
   "outputs": [
    {
     "data": {
      "text/plain": [
       "<matplotlib.axes._subplots.AxesSubplot at 0x2786ca729c8>"
      ]
     },
     "execution_count": 3,
     "metadata": {},
     "output_type": "execute_result"
    },
    {
     "data": {
      "image/png": "[encoded data removed]",
      "text/plain": [
       "<Figure size 432x288 with 1 Axes>"
      ]
     },
     "metadata": {
      "needs_background": "light"
     },
     "output_type": "display_data"
    }
   ],
   "source": [
    "# Show the countplot for the variable shoe_size.\n",
    "sns.countplot(shoe_size)"
   ]
  },
  {
   "cell_type": "markdown",
   "metadata": {},
   "source": [
    "## Height\n",
    "\n",
    "I will generate random values for the variable height. The values should be integers between 155 and 200 (inclusive)."
   ]
  },
  {
   "cell_type": "code",
   "execution_count": 4,
   "metadata": {},
   "outputs": [
    {
     "data": {
      "text/plain": [
       "array([181, 196, 188, 159, 193, 177, 196, 187, 175, 177, 177, 165, 176,\n",
       "       182, 183, 159, 156, 197, 196, 175, 168, 174, 158, 174, 191, 178,\n",
       "       172, 159, 196, 167, 156, 163, 175, 182, 184, 187, 159, 175, 198,\n",
       "       171, 170, 155, 180, 183, 172, 168, 175, 176, 157, 181, 172, 187,\n",
       "       163, 197, 167, 196, 195, 180, 193, 191, 176, 159, 176, 181, 169,\n",
       "       194, 191, 178, 185, 190, 172, 168, 185, 171, 187, 163, 156, 200,\n",
       "       156, 158, 177, 177, 188, 198, 199, 169, 168, 159, 174, 188, 191,\n",
       "       158, 161, 160, 169, 193, 198, 189, 195, 187, 191, 156, 190, 162,\n",
       "       155, 168, 177, 166, 156, 191, 167, 155, 159, 196, 179, 182, 177,\n",
       "       195, 176, 183, 168, 173, 195, 170, 191, 163, 171, 176, 181, 165,\n",
       "       183, 178, 175, 182, 169, 188, 189, 164, 193, 162, 162, 191, 194,\n",
       "       186, 173, 193, 196, 155, 167, 169])"
      ]
     },
     "execution_count": 4,
     "metadata": {},
     "output_type": "execute_result"
    }
   ],
   "source": [
    "# Generates random numbers with seed 555, so we can reproduce the results everytime we run the code.\n",
    "np.random.seed(555)\n",
    "# Returns random 150 integers between 155(inclusive) and 201(exclusive).\n",
    "height = np.random.randint(155, 201, 150)\n",
    "height"
   ]
  },
  {
   "cell_type": "code",
   "execution_count": 5,
   "metadata": {},
   "outputs": [
    {
     "data": {
      "text/plain": [
       "(array([21.,  9., 14., 14., 24., 10., 12., 13., 19., 14.]),\n",
       " array([155. , 159.5, 164. , 168.5, 173. , 177.5, 182. , 186.5, 191. ,\n",
       "        195.5, 200. ]),\n",
       " <a list of 10 Patch objects>)"
      ]
     },
     "execution_count": 5,
     "metadata": {},
     "output_type": "execute_result"
    },
    {
     "data": {
      "image/png": "[encoded data removed]",
      "text/plain": [
       "<Figure size 432x288 with 1 Axes>"
      ]
     },
     "metadata": {
      "needs_background": "light"
     },
     "output_type": "display_data"
    }
   ],
   "source": [
    "# Returns histogram of variable height.\n",
    "plt.hist(height)"
   ]
  },
  {
   "cell_type": "markdown",
   "metadata": {},
   "source": [
    "## Sex\n",
    "\n",
    "This is the only categorical data variable in my dataset. The values can be either Male or Female. "
   ]
  },
  {
   "cell_type": "code",
   "execution_count": 6,
   "metadata": {},
   "outputs": [
    {
     "data": {
      "text/plain": [
       "array(['Male', 'Male', 'Female', 'Female', 'Male', 'Female', 'Male',\n",
       "       'Male', 'Female', 'Female', 'Male', 'Female', 'Male', 'Male',\n",
       "       'Male', 'Male', 'Female', 'Male', 'Female', 'Female', 'Male',\n",
       "       'Male', 'Male', 'Male', 'Female', 'Female', 'Male', 'Male',\n",
       "       'Female', 'Male', 'Female', 'Female', 'Female', 'Female', 'Female',\n",
       "       'Female', 'Male', 'Female', 'Male', 'Female', 'Female', 'Male',\n",
       "       'Female', 'Male', 'Female', 'Female', 'Male', 'Male', 'Female',\n",
       "       'Female', 'Male', 'Female', 'Female', 'Male', 'Male', 'Female',\n",
       "       'Male', 'Female', 'Male', 'Male', 'Female', 'Male', 'Female',\n",
       "       'Male', 'Male', 'Female', 'Female', 'Male', 'Female', 'Male',\n",
       "       'Male', 'Female', 'Male', 'Male', 'Male', 'Female', 'Male',\n",
       "       'Female', 'Female', 'Female', 'Female', 'Male', 'Male', 'Male',\n",
       "       'Male', 'Female', 'Male', 'Male', 'Female', 'Male', 'Female',\n",
       "       'Male', 'Male', 'Female', 'Male', 'Female', 'Female', 'Male',\n",
       "       'Male', 'Female', 'Male', 'Female', 'Male', 'Female', 'Female',\n",
       "       'Female', 'Male', 'Female', 'Female', 'Male', 'Female', 'Female',\n",
       "       'Male', 'Male', 'Male', 'Male', 'Female', 'Female', 'Female',\n",
       "       'Female', 'Male', 'Female', 'Female', 'Male', 'Female', 'Female',\n",
       "       'Male', 'Male', 'Female', 'Male', 'Male', 'Female', 'Female',\n",
       "       'Female', 'Male', 'Male', 'Female', 'Male', 'Female', 'Male',\n",
       "       'Female', 'Female', 'Male', 'Male', 'Female', 'Female', 'Male',\n",
       "       'Male', 'Male', 'Male'], dtype='<U6')"
      ]
     },
     "execution_count": 6,
     "metadata": {},
     "output_type": "execute_result"
    }
   ],
   "source": [
    "np.random.seed(555)\n",
    "sex = [\"Male\", \"Female\"]\n",
    "sex = np.random.choice(sex, 150)\n",
    "sex"
   ]
  },
  {
   "cell_type": "code",
   "execution_count": null,
   "metadata": {},
   "outputs": [],
   "source": []
  },
  {
   "cell_type": "code",
   "execution_count": null,
   "metadata": {},
   "outputs": [],
   "source": []
  },
  {
   "cell_type": "markdown",
   "metadata": {},
   "source": [
    "# References\n",
    "\n",
    "1. MCLAREN, C.H., 2012. 'Using the Height and Shoe Size Data to Introduce Correlation and Regression'. *Journal of Statistics Education Volume 20, Number 3 (2012)* [Online].  Available from: http://jse.amstat.org/v20n3/mclaren.pdf [viewed 13 December 2019]. \n",
    "\n",
    "2. SciPy.org, 2018. numpy.random.seed [Online]. Available from : https://docs.scipy.org/doc/numpy-1.15.4/reference/generated/numpy.random.seed.html [viewed 14 December 2019].\n",
    "\n",
    "3. SciPy.org, 2018. numpy.random.randint [Online]. Available from : https://docs.scipy.org/doc/numpy-1.15.4/reference/generated/numpy.random.randint.html [viewed 14 December 2019].\n",
    "\n",
    "4. Seaborn, 2018. seaborn.countplot [Online]. Available from: https://seaborn.pydata.org/generated/seaborn.countplot.html [viewed 14 December 2019].\n",
    "\n",
    "5. Matplotlib, 2019. matplotlib.pyplot.hist [Online]. Available from: https://matplotlib.org/3.1.1/api/_as_gen/matplotlib.pyplot.hist.html [viewed 14 December 2019].\n",
    "\n",
    "6. SciPy.org, 2018. numpy.random.choice [Online]. Available from : https://docs.scipy.org/doc/numpy-1.15.0/reference/generated/numpy.random.choice.html [viewed 14 December 2019]."
   ]
  },
  {
   "cell_type": "code",
   "execution_count": null,
   "metadata": {},
   "outputs": [],
   "source": []
  }
 ],
 "metadata": {
  "kernelspec": {
   "display_name": "Python 3",
   "language": "python",
   "name": "python3"
  },
  "language_info": {
   "codemirror_mode": {
    "name": "ipython",
    "version": 3
   },
   "file_extension": ".py",
   "mimetype": "text/x-python",
   "name": "python",
   "nbconvert_exporter": "python",
   "pygments_lexer": "ipython3",
   "version": "3.7.4"
  }
 },
 "nbformat": 4,
 "nbformat_minor": 2
}
