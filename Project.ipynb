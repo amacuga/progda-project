{
 "cells": [
  {
   "cell_type": "markdown",
   "metadata": {},
   "source": [
    "# Problem statement\n",
    "\n",
    "For this project you must create a data set by simulating a real-world phenomenon of your choosing. You may pick any phenomenon you wish – you might pick one that is of interest to you in your personal or professional life. Then, rather than collect data\n",
    "related to the phenomenon, you should model and synthesise such data using Python. We suggest you use the numpy.random package for this purpose. Specifically, in this project you should:\n",
    "\n",
    "* Choose a real-world phenomenon that can be measured and for which you could collect at least one-hundred data points across at least four different variables.\n",
    "* Investigate the types of variables involved, their likely distributions, and their relationships with each other.\n",
    "* Synthesise/simulate a data set as closely matching their properties as possible.\n",
    "* Detail your research and implement the simulation in a Jupyter notebook – the data set itself can simply be displayed in an output cell within the notebook.\n",
    "\n",
    "Note that this project is about simulation – you must synthesise a data set. Some students may already have some real-world data sets in their own files. It is okay to base your synthesised data set on these should you wish (please reference it if you do), but the main task in this project is to create a synthesised data set."
   ]
  },
  {
   "cell_type": "markdown",
   "metadata": {},
   "source": [
    "# My simulation of the real-world phenomenon\n",
    "\n",
    "My project is inspired by The Height and Shoe Size dataset published online (McLaren 2012). In this project, I will model and synthesise the dataset concerning the height and shoe size of the students attending this course instead of collecting them by asking each student for their input. In the original dataset, there is only three variables- shoe size, height and sex, I decided to add another two variables- age and ID number. \n",
    "\n",
    "The variables involved:\n",
    "\n",
    "\n",
    "* **Shoe_size:** Size of the shoe, the sizes are between 36-50.\n",
    "\n",
    "* **Height:** Height of the student in centimetres.\n",
    "\n",
    "* **Sex:** the student is Male or Female.\n",
    "\n",
    "* **Age:** the age of the student, the age is between 18-49.\n",
    "\n",
    "* **ID:** identification number of the student, the values are between 1000-9999.\n",
    "\n",
    "\n",
    "The variables shoe_size, height, age and ID are numerical data, the variable sex is categorical data. The dataset will consist of 150 observations."
   ]
  },
  {
   "cell_type": "code",
   "execution_count": 1,
   "metadata": {},
   "outputs": [],
   "source": [
    "# Show plots in notebook\n",
    "%matplotlib inline\n",
    "\n",
    "# Import libraries\n",
    "import pandas as pd\n",
    "import numpy as np\n",
    "import seaborn as sns\n",
    "import matplotlib.pyplot as plt"
   ]
  },
  {
   "cell_type": "markdown",
   "metadata": {},
   "source": [
    "## Shoe_size\n",
    "\n",
    "I will generate random values for the variable shoe_size. The values should be integers between 36 and 50 inclusive."
   ]
  },
  {
   "cell_type": "code",
   "execution_count": 2,
   "metadata": {},
   "outputs": [
    {
     "data": {
      "text/plain": [
       "array([46, 50, 45, 37, 40, 49, 42, 42, 45, 49, 36, 41, 36, 40, 42, 42, 41,\n",
       "       46, 41, 47, 48, 46, 36, 40, 37, 49, 46, 46, 45, 40, 39, 49, 45, 39,\n",
       "       39, 39, 40, 43, 44, 39, 37, 40, 45, 48, 37, 37, 44, 40, 47, 49, 36,\n",
       "       37, 40, 40, 47, 36, 36, 38, 45, 48, 37, 36, 48, 49, 39, 40, 41, 38,\n",
       "       46, 37, 36, 36, 44, 49, 38, 41, 45, 45, 49, 36, 46, 36, 46, 39, 46,\n",
       "       48, 45, 44, 45, 42, 40, 41, 40, 43, 41, 46, 50, 43, 40, 43, 50, 39,\n",
       "       39, 37, 50, 39, 49, 50, 41, 37, 36, 50, 36, 44, 37, 49, 37, 39, 42,\n",
       "       47, 47, 42, 37, 47, 48, 50, 49, 40, 50, 39, 41, 37, 40, 46, 39, 42,\n",
       "       41, 40, 37, 50, 42, 47, 41, 38, 44, 36, 50, 40, 37, 39])"
      ]
     },
     "execution_count": 2,
     "metadata": {},
     "output_type": "execute_result"
    }
   ],
   "source": [
    "# Generates random numbers with seed 555, so we can reproduce the results everytime we run the code.\n",
    "np.random.seed(555)\n",
    "# Returns random 150 integers between 36(inclusive) and 51(exclusive).\n",
    "shoe_size = np.random.randint(36, 51, 150)\n",
    "# Prints the data.\n",
    "shoe_size"
   ]
  },
  {
   "cell_type": "code",
   "execution_count": 3,
   "metadata": {},
   "outputs": [
    {
     "data": {
      "text/plain": [
       "<matplotlib.axes._subplots.AxesSubplot at 0x1f5296d26c8>"
      ]
     },
     "execution_count": 3,
     "metadata": {},
     "output_type": "execute_result"
    },
    {
     "data": {
      "image/png": "[encoded data removed]",
      "text/plain": [
       "<Figure size 432x288 with 1 Axes>"
      ]
     },
     "metadata": {
      "needs_background": "light"
     },
     "output_type": "display_data"
    }
   ],
   "source": [
    "# Show the countplot for the variable shoe_size.\n",
    "sns.countplot(shoe_size)"
   ]
  },
  {
   "cell_type": "markdown",
   "metadata": {},
   "source": [
    "## Height\n",
    "\n",
    "I will generate random values for the variable height. The values should be integers between 155 and 200 (inclusive)."
   ]
  },
  {
   "cell_type": "code",
   "execution_count": 4,
   "metadata": {},
   "outputs": [
    {
     "data": {
      "text/plain": [
       "array([181, 196, 188, 159, 193, 177, 196, 187, 175, 177, 177, 165, 176,\n",
       "       182, 183, 159, 156, 197, 196, 175, 168, 174, 158, 174, 191, 178,\n",
       "       172, 159, 196, 167, 156, 163, 175, 182, 184, 187, 159, 175, 198,\n",
       "       171, 170, 155, 180, 183, 172, 168, 175, 176, 157, 181, 172, 187,\n",
       "       163, 197, 167, 196, 195, 180, 193, 191, 176, 159, 176, 181, 169,\n",
       "       194, 191, 178, 185, 190, 172, 168, 185, 171, 187, 163, 156, 200,\n",
       "       156, 158, 177, 177, 188, 198, 199, 169, 168, 159, 174, 188, 191,\n",
       "       158, 161, 160, 169, 193, 198, 189, 195, 187, 191, 156, 190, 162,\n",
       "       155, 168, 177, 166, 156, 191, 167, 155, 159, 196, 179, 182, 177,\n",
       "       195, 176, 183, 168, 173, 195, 170, 191, 163, 171, 176, 181, 165,\n",
       "       183, 178, 175, 182, 169, 188, 189, 164, 193, 162, 162, 191, 194,\n",
       "       186, 173, 193, 196, 155, 167, 169])"
      ]
     },
     "execution_count": 4,
     "metadata": {},
     "output_type": "execute_result"
    }
   ],
   "source": [
    "# Generates random numbers with seed 555, so we can reproduce the results everytime we run the code.\n",
    "np.random.seed(555)\n",
    "# Returns random 150 integers between 155(inclusive) and 201(exclusive).\n",
    "height = np.random.randint(155, 201, 150)\n",
    "# Prints the data.\n",
    "height"
   ]
  },
  {
   "cell_type": "code",
   "execution_count": 5,
   "metadata": {},
   "outputs": [
    {
     "data": {
      "text/plain": [
       "(array([21.,  9., 14., 14., 24., 10., 12., 13., 19., 14.]),\n",
       " array([155. , 159.5, 164. , 168.5, 173. , 177.5, 182. , 186.5, 191. ,\n",
       "        195.5, 200. ]),\n",
       " <a list of 10 Patch objects>)"
      ]
     },
     "execution_count": 5,
     "metadata": {},
     "output_type": "execute_result"
    },
    {
     "data": {
      "image/png": "[encoded data removed]",
      "text/plain": [
       "<Figure size 432x288 with 1 Axes>"
      ]
     },
     "metadata": {
      "needs_background": "light"
     },
     "output_type": "display_data"
    }
   ],
   "source": [
    "# Returns histogram of variable height.\n",
    "plt.hist(height)"
   ]
  },
  {
   "cell_type": "markdown",
   "metadata": {},
   "source": [
    "## Sex\n",
    "\n",
    "This is the only categorical data variable in my dataset. The values can be either Male or Female. "
   ]
  },
  {
   "cell_type": "code",
   "execution_count": 6,
   "metadata": {},
   "outputs": [
    {
     "data": {
      "text/plain": [
       "array(['Male', 'Male', 'Female', 'Female', 'Male', 'Female', 'Male',\n",
       "       'Male', 'Female', 'Female', 'Male', 'Female', 'Male', 'Male',\n",
       "       'Male', 'Male', 'Female', 'Male', 'Female', 'Female', 'Male',\n",
       "       'Male', 'Male', 'Male', 'Female', 'Female', 'Male', 'Male',\n",
       "       'Female', 'Male', 'Female', 'Female', 'Female', 'Female', 'Female',\n",
       "       'Female', 'Male', 'Female', 'Male', 'Female', 'Female', 'Male',\n",
       "       'Female', 'Male', 'Female', 'Female', 'Male', 'Male', 'Female',\n",
       "       'Female', 'Male', 'Female', 'Female', 'Male', 'Male', 'Female',\n",
       "       'Male', 'Female', 'Male', 'Male', 'Female', 'Male', 'Female',\n",
       "       'Male', 'Male', 'Female', 'Female', 'Male', 'Female', 'Male',\n",
       "       'Male', 'Female', 'Male', 'Male', 'Male', 'Female', 'Male',\n",
       "       'Female', 'Female', 'Female', 'Female', 'Male', 'Male', 'Male',\n",
       "       'Male', 'Female', 'Male', 'Male', 'Female', 'Male', 'Female',\n",
       "       'Male', 'Male', 'Female', 'Male', 'Female', 'Female', 'Male',\n",
       "       'Male', 'Female', 'Male', 'Female', 'Male', 'Female', 'Female',\n",
       "       'Female', 'Male', 'Female', 'Female', 'Male', 'Female', 'Female',\n",
       "       'Male', 'Male', 'Male', 'Male', 'Female', 'Female', 'Female',\n",
       "       'Female', 'Male', 'Female', 'Female', 'Male', 'Female', 'Female',\n",
       "       'Male', 'Male', 'Female', 'Male', 'Male', 'Female', 'Female',\n",
       "       'Female', 'Male', 'Male', 'Female', 'Male', 'Female', 'Male',\n",
       "       'Female', 'Female', 'Male', 'Male', 'Female', 'Female', 'Male',\n",
       "       'Male', 'Male', 'Male'], dtype='<U6')"
      ]
     },
     "execution_count": 6,
     "metadata": {},
     "output_type": "execute_result"
    }
   ],
   "source": [
    "# Generates random numbers with seed 555, so we can reproduce the results everytime we run the code.\n",
    "np.random.seed(555)\n",
    "# Returns random 150 values of variable sex- either Male or Female.\n",
    "sex = [\"Male\", \"Female\"]\n",
    "sex = np.random.choice(sex, 150)\n",
    "# Prints the data.\n",
    "sex"
   ]
  },
  {
   "cell_type": "code",
   "execution_count": 7,
   "metadata": {},
   "outputs": [
    {
     "data": {
      "text/plain": [
       "<matplotlib.axes._subplots.AxesSubplot at 0x1f52ad95c48>"
      ]
     },
     "execution_count": 7,
     "metadata": {},
     "output_type": "execute_result"
    },
    {
     "data": {
      "image/png": "[encoded data removed]",
      "text/plain": [
       "<Figure size 432x288 with 1 Axes>"
      ]
     },
     "metadata": {
      "needs_background": "light"
     },
     "output_type": "display_data"
    }
   ],
   "source": [
    "# Returns the countplot of variable sex.\n",
    "sns.countplot(sex)"
   ]
  },
  {
   "cell_type": "markdown",
   "metadata": {},
   "source": [
    "## Age\n",
    "\n",
    "I will generate random values for the variable age. The values should be integers between 18 and 49 (inclusive)."
   ]
  },
  {
   "cell_type": "code",
   "execution_count": 8,
   "metadata": {},
   "outputs": [
    {
     "data": {
      "text/plain": [
       "array([44, 32, 27, 19, 22, 47, 24, 40, 27, 47, 34, 39, 18, 38, 40, 40, 39,\n",
       "       28, 39, 45, 46, 44, 34, 22, 19, 47, 28, 44, 27, 38, 37, 31, 43, 37,\n",
       "       21, 37, 22, 41, 42, 37, 35, 22, 27, 30, 35, 19, 26, 38, 45, 47, 18,\n",
       "       35, 33, 22, 38, 29, 34, 33, 18, 36, 43, 46, 35, 34, 46, 31, 37, 38,\n",
       "       39, 20, 44, 35, 34, 18, 26, 47, 36, 39, 43, 43, 47, 34, 44, 34, 28,\n",
       "       37, 44, 30, 27, 26, 43, 24, 22, 39, 22, 41, 39, 44, 32, 25, 22, 41,\n",
       "       48, 21, 37, 35, 32, 37, 31, 48, 39, 35, 34, 48, 18, 26, 19, 31, 19,\n",
       "       21, 40, 45, 45, 40, 19, 29, 30, 32, 31, 22, 48, 37, 39, 19, 22, 44,\n",
       "       21, 24, 23, 38, 49, 35, 32, 24, 29, 39, 20, 26, 18, 32])"
      ]
     },
     "execution_count": 8,
     "metadata": {},
     "output_type": "execute_result"
    }
   ],
   "source": [
    "# Generates random numbers with seed 555, so we can reproduce the results everytime we run the code.\n",
    "np.random.seed(555)\n",
    "# Returns random 150 integers between 18(inclusive) and 50(exclusive).\n",
    "age = np.random.randint(18, 50, 150)\n",
    "# Prints the data.\n",
    "age"
   ]
  },
  {
   "cell_type": "code",
   "execution_count": 9,
   "metadata": {},
   "outputs": [
    {
     "data": {
      "text/plain": [
       "(array([19., 15., 11.,  9., 13., 18., 25.,  9., 17., 14.]),\n",
       " array([18. , 21.1, 24.2, 27.3, 30.4, 33.5, 36.6, 39.7, 42.8, 45.9, 49. ]),\n",
       " <a list of 10 Patch objects>)"
      ]
     },
     "execution_count": 9,
     "metadata": {},
     "output_type": "execute_result"
    },
    {
     "data": {
      "image/png": "[encoded data removed]",
      "text/plain": [
       "<Figure size 432x288 with 1 Axes>"
      ]
     },
     "metadata": {
      "needs_background": "light"
     },
     "output_type": "display_data"
    }
   ],
   "source": [
    "# Returns histogram of variable age.\n",
    "plt.hist(age)"
   ]
  },
  {
   "cell_type": "markdown",
   "metadata": {},
   "source": [
    "## ID\n",
    "\n",
    "I will generate random values for the variable ID. ID is identification number of the student, the values are between 1000-9999."
   ]
  },
  {
   "cell_type": "code",
   "execution_count": 10,
   "metadata": {},
   "outputs": [
    {
     "data": {
      "text/plain": [
       "array([5782, 8549, 7694, 1233, 8165, 6616, 8477, 1608, 2108, 9086, 8093,\n",
       "       4658, 6147, 3800, 4251, 2613, 8443, 8511, 6304, 9401, 3308, 1780,\n",
       "       7897, 7408, 9212, 4441, 5628, 5431, 2600, 2458, 2041, 2549, 2715,\n",
       "       6589, 8106, 3394, 4089, 2160, 1957, 4762, 8865, 2785, 5733, 3224,\n",
       "       7320, 6580, 4496, 4865, 4750, 7244, 6077, 3871, 1858, 9910, 3599,\n",
       "       5446, 5526, 4059, 3829, 4358, 8925, 2073, 2424, 5030, 9257, 2645,\n",
       "       6089, 1467, 2333, 3913, 2667, 9902, 5933, 5724, 1575, 6041, 4174,\n",
       "       9418, 3920, 3561, 1903, 7656, 2654, 2814, 7091, 3980, 7272, 3692,\n",
       "       3729, 6106, 2199, 1040, 6689, 9085, 3879, 8629, 4346, 1015, 7308,\n",
       "       1755, 2685, 8284, 7740, 7747, 4642, 3529, 1585, 9181, 4719, 4876,\n",
       "       1607, 8232, 4880, 6539, 9172, 6243, 7588, 2523, 1102, 4140, 6544,\n",
       "       2840, 5417, 5390, 9539, 5436, 6675, 2980, 1323, 5961, 5751, 6125,\n",
       "       3710, 7311, 4995, 8071, 2979, 4510, 7307, 1911, 8102, 8302, 1448,\n",
       "       5338, 1922, 7069, 9110, 2006, 5031, 9065])"
      ]
     },
     "execution_count": 10,
     "metadata": {},
     "output_type": "execute_result"
    }
   ],
   "source": [
    "# Generates random numbers with seed 555, so we can reproduce the results everytime we run the code.\n",
    "np.random.seed(555)\n",
    "# Returns random 150 integers between 1000(inclusive) and 10000(exclusive).\n",
    "ID = np.random.randint(1000, 10000, 150)\n",
    "# Prints the data.\n",
    "ID"
   ]
  },
  {
   "cell_type": "code",
   "execution_count": 11,
   "metadata": {},
   "outputs": [
    {
     "data": {
      "text/plain": [
       "(array([15., 22., 10., 20., 17., 16.,  9., 17., 11., 13.]),\n",
       " array([1015. , 1904.5, 2794. , 3683.5, 4573. , 5462.5, 6352. , 7241.5,\n",
       "        8131. , 9020.5, 9910. ]),\n",
       " <a list of 10 Patch objects>)"
      ]
     },
     "execution_count": 11,
     "metadata": {},
     "output_type": "execute_result"
    },
    {
     "data": {
      "image/png": "[encoded data removed]",
      "text/plain": [
       "<Figure size 432x288 with 1 Axes>"
      ]
     },
     "metadata": {
      "needs_background": "light"
     },
     "output_type": "display_data"
    }
   ],
   "source": [
    "# Returns histogram of variable ID.\n",
    "plt.hist(ID)"
   ]
  },
  {
   "cell_type": "markdown",
   "metadata": {},
   "source": [
    "## DataFrame"
   ]
  },
  {
   "cell_type": "code",
   "execution_count": 12,
   "metadata": {},
   "outputs": [
    {
     "data": {
      "text/html": [
       "<div>\n",
       "<style scoped>\n",
       "    .dataframe tbody tr th:only-of-type {\n",
       "        vertical-align: middle;\n",
       "    }\n",
       "\n",
       "    .dataframe tbody tr th {\n",
       "        vertical-align: top;\n",
       "    }\n",
       "\n",
       "    .dataframe thead th {\n",
       "        text-align: right;\n",
       "    }\n",
       "</style>\n",
       "<table border=\"1\" class=\"dataframe\">\n",
       "  <thead>\n",
       "    <tr style=\"text-align: right;\">\n",
       "      <th></th>\n",
       "      <th>shoe_size</th>\n",
       "    </tr>\n",
       "  </thead>\n",
       "  <tbody>\n",
       "    <tr>\n",
       "      <td>0</td>\n",
       "      <td>44</td>\n",
       "    </tr>\n",
       "    <tr>\n",
       "      <td>1</td>\n",
       "      <td>47</td>\n",
       "    </tr>\n",
       "    <tr>\n",
       "      <td>2</td>\n",
       "      <td>40</td>\n",
       "    </tr>\n",
       "    <tr>\n",
       "      <td>3</td>\n",
       "      <td>36</td>\n",
       "    </tr>\n",
       "    <tr>\n",
       "      <td>4</td>\n",
       "      <td>46</td>\n",
       "    </tr>\n",
       "    <tr>\n",
       "      <td>...</td>\n",
       "      <td>...</td>\n",
       "    </tr>\n",
       "    <tr>\n",
       "      <td>145</td>\n",
       "      <td>36</td>\n",
       "    </tr>\n",
       "    <tr>\n",
       "      <td>146</td>\n",
       "      <td>44</td>\n",
       "    </tr>\n",
       "    <tr>\n",
       "      <td>147</td>\n",
       "      <td>44</td>\n",
       "    </tr>\n",
       "    <tr>\n",
       "      <td>148</td>\n",
       "      <td>45</td>\n",
       "    </tr>\n",
       "    <tr>\n",
       "      <td>149</td>\n",
       "      <td>36</td>\n",
       "    </tr>\n",
       "  </tbody>\n",
       "</table>\n",
       "<p>150 rows × 1 columns</p>\n",
       "</div>"
      ],
      "text/plain": [
       "     shoe_size\n",
       "0           44\n",
       "1           47\n",
       "2           40\n",
       "3           36\n",
       "4           46\n",
       "..         ...\n",
       "145         36\n",
       "146         44\n",
       "147         44\n",
       "148         45\n",
       "149         36\n",
       "\n",
       "[150 rows x 1 columns]"
      ]
     },
     "execution_count": 12,
     "metadata": {},
     "output_type": "execute_result"
    }
   ],
   "source": [
    "# Initialises data of lists.\n",
    "shoe_size = {'shoe_size':np.random.randint(36, 51, 150)}\n",
    "# Creates pandas DataFrame.\n",
    "df1 = pd.DataFrame(shoe_size)\n",
    "# Prints the data.\n",
    "df1"
   ]
  },
  {
   "cell_type": "code",
   "execution_count": 13,
   "metadata": {},
   "outputs": [
    {
     "data": {
      "text/html": [
       "<div>\n",
       "<style scoped>\n",
       "    .dataframe tbody tr th:only-of-type {\n",
       "        vertical-align: middle;\n",
       "    }\n",
       "\n",
       "    .dataframe tbody tr th {\n",
       "        vertical-align: top;\n",
       "    }\n",
       "\n",
       "    .dataframe thead th {\n",
       "        text-align: right;\n",
       "    }\n",
       "</style>\n",
       "<table border=\"1\" class=\"dataframe\">\n",
       "  <thead>\n",
       "    <tr style=\"text-align: right;\">\n",
       "      <th></th>\n",
       "      <th>height</th>\n",
       "    </tr>\n",
       "  </thead>\n",
       "  <tbody>\n",
       "    <tr>\n",
       "      <td>0</td>\n",
       "      <td>192</td>\n",
       "    </tr>\n",
       "    <tr>\n",
       "      <td>1</td>\n",
       "      <td>170</td>\n",
       "    </tr>\n",
       "    <tr>\n",
       "      <td>2</td>\n",
       "      <td>182</td>\n",
       "    </tr>\n",
       "    <tr>\n",
       "      <td>3</td>\n",
       "      <td>185</td>\n",
       "    </tr>\n",
       "    <tr>\n",
       "      <td>4</td>\n",
       "      <td>176</td>\n",
       "    </tr>\n",
       "    <tr>\n",
       "      <td>...</td>\n",
       "      <td>...</td>\n",
       "    </tr>\n",
       "    <tr>\n",
       "      <td>145</td>\n",
       "      <td>182</td>\n",
       "    </tr>\n",
       "    <tr>\n",
       "      <td>146</td>\n",
       "      <td>170</td>\n",
       "    </tr>\n",
       "    <tr>\n",
       "      <td>147</td>\n",
       "      <td>159</td>\n",
       "    </tr>\n",
       "    <tr>\n",
       "      <td>148</td>\n",
       "      <td>172</td>\n",
       "    </tr>\n",
       "    <tr>\n",
       "      <td>149</td>\n",
       "      <td>176</td>\n",
       "    </tr>\n",
       "  </tbody>\n",
       "</table>\n",
       "<p>150 rows × 1 columns</p>\n",
       "</div>"
      ],
      "text/plain": [
       "     height\n",
       "0       192\n",
       "1       170\n",
       "2       182\n",
       "3       185\n",
       "4       176\n",
       "..      ...\n",
       "145     182\n",
       "146     170\n",
       "147     159\n",
       "148     172\n",
       "149     176\n",
       "\n",
       "[150 rows x 1 columns]"
      ]
     },
     "execution_count": 13,
     "metadata": {},
     "output_type": "execute_result"
    }
   ],
   "source": [
    "# Initialises data of lists.\n",
    "height = {'height':np.random.randint(155, 201, 150)}\n",
    "# Creates pandas DataFrame.\n",
    "df2 = pd.DataFrame(height)\n",
    "# Prints the data.\n",
    "df2"
   ]
  },
  {
   "cell_type": "markdown",
   "metadata": {},
   "source": [
    "# References\n",
    "\n",
    "1. MCLAREN, C.H., 2012. 'Using the Height and Shoe Size Data to Introduce Correlation and Regression'. *Journal of Statistics Education Volume 20, Number 3 (2012)* [Online].  Available from: http://jse.amstat.org/v20n3/mclaren.pdf [viewed 13 December 2019]. \n",
    "\n",
    "2. SciPy.org, 2018. numpy.random.seed [Online]. Available from : https://docs.scipy.org/doc/numpy-1.15.4/reference/generated/numpy.random.seed.html [viewed 14 December 2019].\n",
    "\n",
    "3. SciPy.org, 2018. numpy.random.randint [Online]. Available from : https://docs.scipy.org/doc/numpy-1.15.4/reference/generated/numpy.random.randint.html [viewed 14 December 2019].\n",
    "\n",
    "4. Seaborn, 2018. seaborn.countplot [Online]. Available from: https://seaborn.pydata.org/generated/seaborn.countplot.html [viewed 14 December 2019].\n",
    "\n",
    "5. Matplotlib, 2019. matplotlib.pyplot.hist [Online]. Available from: https://matplotlib.org/3.1.1/api/_as_gen/matplotlib.pyplot.hist.html [viewed 14 December 2019].\n",
    "\n",
    "6. SciPy.org, 2018. numpy.random.choice [Online]. Available from : https://docs.scipy.org/doc/numpy-1.15.0/reference/generated/numpy.random.choice.html [viewed 14 December 2019].\n",
    "\n",
    "7. Pandas, 2019. pandas.DataFrame [Online]. Available from : https://pandas.pydata.org/pandas-docs/version/0.23.4/generated/pandas.DataFrame.html [viewed 15 December 2019]."
   ]
  }
 ],
 "metadata": {
  "kernelspec": {
   "display_name": "Python 3",
   "language": "python",
   "name": "python3"
  },
  "language_info": {
   "codemirror_mode": {
    "name": "ipython",
    "version": 3
   },
   "file_extension": ".py",
   "mimetype": "text/x-python",
   "name": "python",
   "nbconvert_exporter": "python",
   "pygments_lexer": "ipython3",
   "version": "3.7.4"
  }
 },
 "nbformat": 4,
 "nbformat_minor": 2
}
